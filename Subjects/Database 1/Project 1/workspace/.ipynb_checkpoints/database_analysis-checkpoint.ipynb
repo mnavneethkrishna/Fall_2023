{
 "cells": [
  {
   "cell_type": "code",
   "execution_count": 1,
   "id": "fa8da561",
   "metadata": {},
   "outputs": [],
   "source": [
    "import numpy as np\n",
    "import pandas as pd"
   ]
  },
  {
   "cell_type": "code",
   "execution_count": 2,
   "id": "5772790c",
   "metadata": {},
   "outputs": [],
   "source": [
    "import csv"
   ]
  },
  {
   "cell_type": "code",
   "execution_count": 4,
   "id": "4261538b",
   "metadata": {},
   "outputs": [
    {
     "ename": "ValueError",
     "evalue": "could not convert string to float: 'TX'",
     "output_type": "error",
     "traceback": [
      "\u001b[0;31m---------------------------------------------------------------------------\u001b[0m",
      "\u001b[0;31mValueError\u001b[0m                                Traceback (most recent call last)",
      "Cell \u001b[0;32mIn [4], line 35\u001b[0m\n\u001b[1;32m     33\u001b[0m \u001b[38;5;66;03m# Check if there are enough values in the row\u001b[39;00m\n\u001b[1;32m     34\u001b[0m \u001b[38;5;28;01mif\u001b[39;00m \u001b[38;5;28mlen\u001b[39m(row) \u001b[38;5;241m>\u001b[39m\u001b[38;5;241m=\u001b[39m \u001b[38;5;241m8\u001b[39m:\n\u001b[0;32m---> 35\u001b[0m     Salary \u001b[38;5;241m=\u001b[39m \u001b[38;5;28;43mfloat\u001b[39;49m\u001b[43m(\u001b[49m\u001b[43mrow\u001b[49m\u001b[43m[\u001b[49m\u001b[38;5;241;43m7\u001b[39;49m\u001b[43m]\u001b[49m\u001b[38;5;241;43m.\u001b[39;49m\u001b[43mstrip\u001b[49m\u001b[43m(\u001b[49m\u001b[38;5;124;43m\"\u001b[39;49m\u001b[38;5;124;43m'\u001b[39;49m\u001b[38;5;124;43m\"\u001b[39;49m\u001b[43m)\u001b[49m\u001b[43m)\u001b[49m \u001b[38;5;28;01mif\u001b[39;00m row[\u001b[38;5;241m7\u001b[39m]\u001b[38;5;241m.\u001b[39mstrip(\u001b[38;5;124m\"\u001b[39m\u001b[38;5;124m'\u001b[39m\u001b[38;5;124m\"\u001b[39m) \u001b[38;5;241m!=\u001b[39m \u001b[38;5;124m\"\u001b[39m\u001b[38;5;124mnull\u001b[39m\u001b[38;5;124m\"\u001b[39m \u001b[38;5;28;01melse\u001b[39;00m \u001b[38;5;28;01mNone\u001b[39;00m\n\u001b[1;32m     36\u001b[0m \u001b[38;5;28;01melse\u001b[39;00m:\n\u001b[1;32m     37\u001b[0m     Salary \u001b[38;5;241m=\u001b[39m \u001b[38;5;28;01mNone\u001b[39;00m\n",
      "\u001b[0;31mValueError\u001b[0m: could not convert string to float: 'TX'"
     ]
    }
   ],
   "source": [
    "with open('EMPLOYEE.csv', 'r', newline='') as csv_file:\n",
    "    csv_reader = csv.reader(csv_file)\n",
    "        \n",
    "    # Skip the header row if present\n",
    "    next(csv_reader)\n",
    "        \n",
    "    # Iterate through the rows in the .csv file\n",
    "    for row in csv_reader:\n",
    "        # Extract data from the row\n",
    "        Fname = row[0].strip(\"'\")\n",
    "        Minit = row[1].strip(\"'\")\n",
    "        Lname = row[2].strip(\"'\")\n",
    "        Ssn = row[3].strip(\"'\")\n",
    "            \n",
    "        # Check if there are enough values in the row\n",
    "        if len(row) >= 5:\n",
    "            Bdate_str = row[4].strip(\"'\")\n",
    "        else:\n",
    "            Bdate_str = \"\"\n",
    "            \n",
    "        # Check if there are enough values in the row\n",
    "        if len(row) >= 6:\n",
    "            Address = row[5].strip(\"'\")\n",
    "        else:\n",
    "            Address = \"\"\n",
    "            \n",
    "        # Check if there are enough values in the row\n",
    "        if len(row) >= 7:\n",
    "            Sex = row[6].strip(\"'\")\n",
    "        else:\n",
    "            Sex = \"\"\n",
    "            \n",
    "        # Check if there are enough values in the row\n",
    "        if len(row) >= 8:\n",
    "            Salary = float(row[7].strip(\"'\")) if row[7].strip(\"'\") != \"null\" else None\n",
    "        else:\n",
    "            Salary = None\n",
    "            \n",
    "        # Check if there are enough values in the row\n",
    "        if len(row) >= 9:\n",
    "            Super_ssn = row[8].strip(\"'\") if row[8].strip(\"'\") != \"null\" else None\n",
    "        else:\n",
    "            Super_ssn = None\n",
    "            \n",
    "        # Check if there are enough values in the row\n",
    "        if len(row) >= 10:\n",
    "            Dno = int(row[9])\n",
    "        else:\n",
    "            Dno = None"
   ]
  },
  {
   "cell_type": "code",
   "execution_count": null,
   "id": "b683c77b",
   "metadata": {},
   "outputs": [],
   "source": [
    "with open('EMPLOYEE.csv', 'r', newline='\\n') as csv_file:\n",
    "    csv_reader = csv.reader(csv_file)"
   ]
  }
 ],
 "metadata": {
  "kernelspec": {
   "display_name": "Python 3 (ipykernel)",
   "language": "python",
   "name": "python3"
  },
  "language_info": {
   "codemirror_mode": {
    "name": "ipython",
    "version": 3
   },
   "file_extension": ".py",
   "mimetype": "text/x-python",
   "name": "python",
   "nbconvert_exporter": "python",
   "pygments_lexer": "ipython3",
   "version": "3.9.6"
  }
 },
 "nbformat": 4,
 "nbformat_minor": 5
}
