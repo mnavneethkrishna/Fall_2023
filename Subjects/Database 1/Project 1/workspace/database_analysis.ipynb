{
 "cells": [
  {
   "cell_type": "code",
   "execution_count": 1,
   "id": "fa8da561",
   "metadata": {},
   "outputs": [],
   "source": [
    "import numpy as np\n",
    "import pandas as pd"
   ]
  },
  {
   "cell_type": "code",
   "execution_count": 2,
   "id": "6f521b9c",
   "metadata": {},
   "outputs": [],
   "source": [
    "department = pd.read_csv(\"DEPARTMENT.csv\")"
   ]
  },
  {
   "cell_type": "code",
   "execution_count": 3,
   "id": "9fc3ff7d",
   "metadata": {},
   "outputs": [
    {
     "data": {
      "text/html": [
       "<div>\n",
       "<style scoped>\n",
       "    .dataframe tbody tr th:only-of-type {\n",
       "        vertical-align: middle;\n",
       "    }\n",
       "\n",
       "    .dataframe tbody tr th {\n",
       "        vertical-align: top;\n",
       "    }\n",
       "\n",
       "    .dataframe thead th {\n",
       "        text-align: right;\n",
       "    }\n",
       "</style>\n",
       "<table border=\"1\" class=\"dataframe\">\n",
       "  <thead>\n",
       "    <tr style=\"text-align: right;\">\n",
       "      <th></th>\n",
       "      <th>'Research'</th>\n",
       "      <th>5</th>\n",
       "      <th>'333445555'</th>\n",
       "      <th>'22-MAY-1978'</th>\n",
       "      <th>346500</th>\n",
       "    </tr>\n",
       "  </thead>\n",
       "  <tbody>\n",
       "    <tr>\n",
       "      <th>0</th>\n",
       "      <td>'Administration'</td>\n",
       "      <td>4</td>\n",
       "      <td>'987654321'</td>\n",
       "      <td>'01-JAN-1985'</td>\n",
       "      <td>330500</td>\n",
       "    </tr>\n",
       "    <tr>\n",
       "      <th>1</th>\n",
       "      <td>'Headquarters'</td>\n",
       "      <td>1</td>\n",
       "      <td>'888665555'</td>\n",
       "      <td>'19-JUN-1971'</td>\n",
       "      <td>70000</td>\n",
       "    </tr>\n",
       "    <tr>\n",
       "      <th>2</th>\n",
       "      <td>'Software'</td>\n",
       "      <td>6</td>\n",
       "      <td>'111111100'</td>\n",
       "      <td>'15-MAY-1999'</td>\n",
       "      <td>758000</td>\n",
       "    </tr>\n",
       "    <tr>\n",
       "      <th>3</th>\n",
       "      <td>'Hardware'</td>\n",
       "      <td>7</td>\n",
       "      <td>'444444400'</td>\n",
       "      <td>'15-MAY-1998'</td>\n",
       "      <td>949500</td>\n",
       "    </tr>\n",
       "    <tr>\n",
       "      <th>4</th>\n",
       "      <td>'Sales'</td>\n",
       "      <td>8</td>\n",
       "      <td>'555555500'</td>\n",
       "      <td>'01-JAN-1997'</td>\n",
       "      <td>992500</td>\n",
       "    </tr>\n",
       "    <tr>\n",
       "      <th>5</th>\n",
       "      <td>'HR'</td>\n",
       "      <td>9</td>\n",
       "      <td>'112244668'</td>\n",
       "      <td>'01-FEB-1989'</td>\n",
       "      <td>122000</td>\n",
       "    </tr>\n",
       "    <tr>\n",
       "      <th>6</th>\n",
       "      <td>'Networking'</td>\n",
       "      <td>3</td>\n",
       "      <td>'110110110'</td>\n",
       "      <td>'15-MAY-2009'</td>\n",
       "      <td>80000</td>\n",
       "    </tr>\n",
       "    <tr>\n",
       "      <th>7</th>\n",
       "      <td>'QA'</td>\n",
       "      <td>11</td>\n",
       "      <td>'913323708'</td>\n",
       "      <td>'2-FEB-2010'</td>\n",
       "      <td>0</td>\n",
       "    </tr>\n",
       "  </tbody>\n",
       "</table>\n",
       "</div>"
      ],
      "text/plain": [
       "         'Research'   5   '333445555'   '22-MAY-1978'  346500\n",
       "0  'Administration'   4   '987654321'   '01-JAN-1985'  330500\n",
       "1    'Headquarters'   1   '888665555'   '19-JUN-1971'   70000\n",
       "2        'Software'   6   '111111100'   '15-MAY-1999'  758000\n",
       "3        'Hardware'   7   '444444400'   '15-MAY-1998'  949500\n",
       "4           'Sales'   8   '555555500'   '01-JAN-1997'  992500\n",
       "5              'HR'   9   '112244668'   '01-FEB-1989'  122000\n",
       "6      'Networking'   3   '110110110'   '15-MAY-2009'   80000\n",
       "7              'QA'  11   '913323708'    '2-FEB-2010'       0"
      ]
     },
     "execution_count": 3,
     "metadata": {},
     "output_type": "execute_result"
    }
   ],
   "source": [
    "department"
   ]
  },
  {
   "cell_type": "code",
   "execution_count": 4,
   "id": "7e9ee960",
   "metadata": {},
   "outputs": [
    {
     "ename": "TypeError",
     "evalue": "to_sql() missing 1 required positional argument: 'con'",
     "output_type": "error",
     "traceback": [
      "\u001b[0;31m---------------------------------------------------------------------------\u001b[0m",
      "\u001b[0;31mTypeError\u001b[0m                                 Traceback (most recent call last)",
      "Cell \u001b[0;32mIn [4], line 1\u001b[0m\n\u001b[0;32m----> 1\u001b[0m \u001b[43mdepartment\u001b[49m\u001b[38;5;241;43m.\u001b[39;49m\u001b[43mto_sql\u001b[49m\u001b[43m(\u001b[49m\u001b[38;5;124;43m'\u001b[39;49m\u001b[38;5;124;43mDepartment\u001b[39;49m\u001b[38;5;124;43m'\u001b[39;49m\u001b[43m)\u001b[49m\n",
      "File \u001b[0;32m/Library/Python/3.9/site-packages/pandas/util/_decorators.py:333\u001b[0m, in \u001b[0;36mdeprecate_nonkeyword_arguments.<locals>.decorate.<locals>.wrapper\u001b[0;34m(*args, **kwargs)\u001b[0m\n\u001b[1;32m    327\u001b[0m \u001b[38;5;28;01mif\u001b[39;00m \u001b[38;5;28mlen\u001b[39m(args) \u001b[38;5;241m>\u001b[39m num_allow_args:\n\u001b[1;32m    328\u001b[0m     warnings\u001b[38;5;241m.\u001b[39mwarn(\n\u001b[1;32m    329\u001b[0m         msg\u001b[38;5;241m.\u001b[39mformat(arguments\u001b[38;5;241m=\u001b[39m_format_argument_list(allow_args)),\n\u001b[1;32m    330\u001b[0m         \u001b[38;5;167;01mFutureWarning\u001b[39;00m,\n\u001b[1;32m    331\u001b[0m         stacklevel\u001b[38;5;241m=\u001b[39mfind_stack_level(),\n\u001b[1;32m    332\u001b[0m     )\n\u001b[0;32m--> 333\u001b[0m \u001b[38;5;28;01mreturn\u001b[39;00m \u001b[43mfunc\u001b[49m\u001b[43m(\u001b[49m\u001b[38;5;241;43m*\u001b[39;49m\u001b[43margs\u001b[49m\u001b[43m,\u001b[49m\u001b[43m \u001b[49m\u001b[38;5;241;43m*\u001b[39;49m\u001b[38;5;241;43m*\u001b[39;49m\u001b[43mkwargs\u001b[49m\u001b[43m)\u001b[49m\n",
      "\u001b[0;31mTypeError\u001b[0m: to_sql() missing 1 required positional argument: 'con'"
     ]
    }
   ],
   "source": [
    "department.to_sql('Department', )0k6"
   ]
  },
  {
   "cell_type": "code",
   "execution_count": null,
   "id": "f9ea50d7",
   "metadata": {},
   "outputs": [],
   "source": []
  }
 ],
 "metadata": {
  "kernelspec": {
   "display_name": "Python 3 (ipykernel)",
   "language": "python",
   "name": "python3"
  },
  "language_info": {
   "codemirror_mode": {
    "name": "ipython",
    "version": 3
   },
   "file_extension": ".py",
   "mimetype": "text/x-python",
   "name": "python",
   "nbconvert_exporter": "python",
   "pygments_lexer": "ipython3",
   "version": "3.9.6"
  }
 },
 "nbformat": 4,
 "nbformat_minor": 5
}
