{
 "cells": [
  {
   "cell_type": "code",
   "execution_count": 1,
   "id": "fa8da561",
   "metadata": {},
   "outputs": [],
   "source": [
    "import numpy as np\n",
    "import pandas as pd"
   ]
  },
  {
   "cell_type": "code",
   "execution_count": 2,
   "id": "d8113b18",
   "metadata": {},
   "outputs": [],
   "source": [
    "import csv"
   ]
  },
  {
   "cell_type": "code",
   "execution_count": 4,
   "id": "16ed75ae",
   "metadata": {},
   "outputs": [
    {
     "ename": "ValueError",
     "evalue": "could not convert string to float: 'TX'",
     "output_type": "error",
     "traceback": [
      "\u001b[0;31m---------------------------------------------------------------------------\u001b[0m",
      "\u001b[0;31mValueError\u001b[0m                                Traceback (most recent call last)",
      "Cell \u001b[0;32mIn [4], line 35\u001b[0m\n\u001b[1;32m     33\u001b[0m \u001b[38;5;66;03m# Check if there are enough values in the row\u001b[39;00m\n\u001b[1;32m     34\u001b[0m \u001b[38;5;28;01mif\u001b[39;00m \u001b[38;5;28mlen\u001b[39m(row) \u001b[38;5;241m>\u001b[39m\u001b[38;5;241m=\u001b[39m \u001b[38;5;241m8\u001b[39m:\n\u001b[0;32m---> 35\u001b[0m     Salary \u001b[38;5;241m=\u001b[39m \u001b[38;5;28;43mfloat\u001b[39;49m\u001b[43m(\u001b[49m\u001b[43mrow\u001b[49m\u001b[43m[\u001b[49m\u001b[38;5;241;43m7\u001b[39;49m\u001b[43m]\u001b[49m\u001b[38;5;241;43m.\u001b[39;49m\u001b[43mstrip\u001b[49m\u001b[43m(\u001b[49m\u001b[38;5;124;43m\"\u001b[39;49m\u001b[38;5;124;43m'\u001b[39;49m\u001b[38;5;124;43m\"\u001b[39;49m\u001b[43m)\u001b[49m\u001b[43m)\u001b[49m \u001b[38;5;28;01mif\u001b[39;00m row[\u001b[38;5;241m7\u001b[39m]\u001b[38;5;241m.\u001b[39mstrip(\u001b[38;5;124m\"\u001b[39m\u001b[38;5;124m'\u001b[39m\u001b[38;5;124m\"\u001b[39m) \u001b[38;5;241m!=\u001b[39m \u001b[38;5;124m\"\u001b[39m\u001b[38;5;124mnull\u001b[39m\u001b[38;5;124m\"\u001b[39m \u001b[38;5;28;01melse\u001b[39;00m \u001b[38;5;28;01mNone\u001b[39;00m\n\u001b[1;32m     36\u001b[0m \u001b[38;5;28;01melse\u001b[39;00m:\n\u001b[1;32m     37\u001b[0m     Salary \u001b[38;5;241m=\u001b[39m \u001b[38;5;28;01mNone\u001b[39;00m\n",
      "\u001b[0;31mValueError\u001b[0m: could not convert string to float: 'TX'"
     ]
    }
   ],
   "source": [
    "with open('EMPLOYEE.csv', 'r', newline='') as csv_file:\n",
    "    csv_reader = csv.reader(csv_file)\n",
    "        \n",
    "    # Skip the header row if present\n",
    "    next(csv_reader)\n",
    "        \n",
    "    # Iterate through the rows in the .csv file\n",
    "    for row in csv_reader:\n",
    "        # Extract data from the row\n",
    "        Fname = row[0].strip(\"'\")\n",
    "        Minit = row[1].strip(\"'\")\n",
    "        Lname = row[2].strip(\"'\")\n",
    "        Ssn = row[3].strip(\"'\")\n",
    "            \n",
    "        # Check if there are enough values in the row\n",
    "        if len(row) >= 5:\n",
    "            Bdate_str = row[4].strip(\"'\")\n",
    "        else:\n",
    "            Bdate_str = \"\"\n",
    "            \n",
    "        # Check if there are enough values in the row\n",
    "        if len(row) >= 6:\n",
    "            Address = row[5].strip(\"'\")\n",
    "        else:\n",
    "            Address = \"\"\n",
    "            \n",
    "        # Check if there are enough values in the row\n",
    "        if len(row) >= 7:\n",
    "            Sex = row[6].strip(\"'\")\n",
    "        else:\n",
    "            Sex = \"\"\n",
    "            \n",
    "        # Check if there are enough values in the row\n",
    "        if len(row) >= 8:\n",
    "            Salary = float(row[7].strip(\"'\")) if row[7].strip(\"'\") != \"null\" else None\n",
    "        else:\n",
    "            Salary = None\n",
    "            \n",
    "        # Check if there are enough values in the row\n",
    "        if len(row) >= 9:\n",
    "            Super_ssn = row[8].strip(\"'\") if row[8].strip(\"'\") != \"null\" else None\n",
    "        else:\n",
    "            Super_ssn = None\n",
    "            \n",
    "        # Check if there are enough values in the row\n",
    "        if len(row) >= 10:\n",
    "            Dno = int(row[9])\n",
    "        else:\n",
    "            Dno = None"
   ]
  },
  {
   "cell_type": "code",
   "execution_count": 56,
   "id": "ca952068",
   "metadata": {},
   "outputs": [],
   "source": [
    "with open('EMPLOYEE.csv', 'r', newline='\\n') as csv_file:\n",
    "    csv_reader = csv.reader(csv_file)\n",
    "    for row in csv_reader:\n",
    "        Fname = row[0]\n",
    "        Minit = row[1]\n",
    "        Lname = row[2]\n",
    "        Ssn = row[3]\n",
    "        Birthday = row[4]\n",
    "        address = row[5]\n",
    "        Sex = row[6]\n",
    "        Salary = row[7]\n",
    "        Super_ssn = row[8]\n",
    "        Dno = row[9]\n",
    "        i = row[10]"
   ]
  },
  {
   "cell_type": "code",
   "execution_count": 50,
   "id": "1d9853c8",
   "metadata": {},
   "outputs": [],
   "source": [
    "temp = row[5] + \" \" +row[6] + \" \" + row[7]"
   ]
  },
  {
   "cell_type": "code",
   "execution_count": 51,
   "id": "a5f11d0e",
   "metadata": {},
   "outputs": [],
   "source": [
    "temp = temp.replace(\"'\",\"\")"
   ]
  },
  {
   "cell_type": "code",
   "execution_count": 52,
   "id": "00944b4f",
   "metadata": {},
   "outputs": [
    {
     "data": {
      "text/plain": [
       "' 13 Fifth St Seattle WA'"
      ]
     },
     "execution_count": 52,
     "metadata": {},
     "output_type": "execute_result"
    }
   ],
   "source": [
    "temp"
   ]
  },
  {
   "cell_type": "code",
   "execution_count": 76,
   "id": "92db4c4c",
   "metadata": {},
   "outputs": [],
   "source": [
    "Birthday = Birthday.replace(\"'\",\"\")\n",
    "Birthday = Birthday.replace(\" \",\"\")"
   ]
  },
  {
   "cell_type": "code",
   "execution_count": 77,
   "id": "f8875a2a",
   "metadata": {},
   "outputs": [
    {
     "data": {
      "text/plain": [
       "'27-MAY-1978'"
      ]
     },
     "execution_count": 77,
     "metadata": {},
     "output_type": "execute_result"
    }
   ],
   "source": [
    "Birthday"
   ]
  },
  {
   "cell_type": "code",
   "execution_count": 80,
   "id": "329ec016",
   "metadata": {},
   "outputs": [],
   "source": [
    "from datetime import datetime"
   ]
  },
  {
   "cell_type": "code",
   "execution_count": 81,
   "id": "e6d5ea1e",
   "metadata": {},
   "outputs": [],
   "source": [
    "Birthday = datetime.strptime(Birthday.strip(), '%d-%b-%Y').date()"
   ]
  },
  {
   "cell_type": "code",
   "execution_count": 82,
   "id": "8846d269",
   "metadata": {},
   "outputs": [
    {
     "data": {
      "text/plain": [
       "datetime.date(1978, 5, 27)"
      ]
     },
     "execution_count": 82,
     "metadata": {},
     "output_type": "execute_result"
    }
   ],
   "source": [
    "Birthday"
   ]
  },
  {
   "cell_type": "code",
   "execution_count": 89,
   "id": "0aaeaac2",
   "metadata": {},
   "outputs": [],
   "source": [
    "Address = row[5] + \" \" +row[6] + \" \" + row[7]"
   ]
  },
  {
   "cell_type": "code",
   "execution_count": 90,
   "id": "9f5d2971",
   "metadata": {},
   "outputs": [],
   "source": [
    "Address = Address.replace(\"'\", \"\")\n",
    "#Address = Address.replace(\" \",\"\")"
   ]
  },
  {
   "cell_type": "code",
   "execution_count": 93,
   "id": "6402cb71",
   "metadata": {},
   "outputs": [],
   "source": [
    "Sex = row[8]"
   ]
  },
  {
   "cell_type": "code",
   "execution_count": 101,
   "id": "9788f4c8",
   "metadata": {},
   "outputs": [],
   "source": [
    "Salary = row[9]"
   ]
  },
  {
   "cell_type": "code",
   "execution_count": 104,
   "id": "0f5691a1",
   "metadata": {},
   "outputs": [],
   "source": [
    "Salary = float(Salary)"
   ]
  },
  {
   "cell_type": "code",
   "execution_count": 106,
   "id": "b789e354",
   "metadata": {},
   "outputs": [],
   "source": [
    "Salary = round(Salary, 2)"
   ]
  },
  {
   "cell_type": "code",
   "execution_count": 109,
   "id": "3832ccec",
   "metadata": {},
   "outputs": [],
   "source": [
    "Super_ssn = row[10]"
   ]
  },
  {
   "cell_type": "code",
   "execution_count": 110,
   "id": "13d38212",
   "metadata": {},
   "outputs": [],
   "source": [
    "Super_ssn = Super_ssn.replace(\"'\",\"\")\n",
    "Super_ssn = Super_ssn.replace(\" \",\"\")"
   ]
  },
  {
   "cell_type": "code",
   "execution_count": 112,
   "id": "7e695e8e",
   "metadata": {},
   "outputs": [],
   "source": [
    "Dno = row[11]\n"
   ]
  },
  {
   "cell_type": "code",
   "execution_count": 114,
   "id": "018ed5de",
   "metadata": {},
   "outputs": [],
   "source": [
    "Dno = Dno.replace(\"'\",\"\")\n",
    "Dno = Dno.replace(\" \",\"\")\n",
    "Dno = int(Dno)"
   ]
  },
  {
   "cell_type": "code",
   "execution_count": 115,
   "id": "bf5d5643",
   "metadata": {},
   "outputs": [
    {
     "data": {
      "text/plain": [
       "5"
      ]
     },
     "execution_count": 115,
     "metadata": {},
     "output_type": "execute_result"
    }
   ],
   "source": [
    "Dno"
   ]
  },
  {
   "cell_type": "code",
   "execution_count": null,
   "id": "999deb1c",
   "metadata": {},
   "outputs": [],
   "source": []
  }
 ],
 "metadata": {
  "kernelspec": {
   "display_name": "Python 3 (ipykernel)",
   "language": "python",
   "name": "python3"
  },
  "language_info": {
   "codemirror_mode": {
    "name": "ipython",
    "version": 3
   },
   "file_extension": ".py",
   "mimetype": "text/x-python",
   "name": "python",
   "nbconvert_exporter": "python",
   "pygments_lexer": "ipython3",
   "version": "3.9.6"
  }
 },
 "nbformat": 4,
 "nbformat_minor": 5
}
