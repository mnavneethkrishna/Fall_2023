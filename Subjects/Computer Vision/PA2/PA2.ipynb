{
 "cells": [
  {
   "cell_type": "markdown",
   "id": "921c037f",
   "metadata": {},
   "source": [
    "# CSE 6367 Programming Assignment 2 (P2)"
   ]
  },
  {
   "cell_type": "markdown",
   "id": "7c013586",
   "metadata": {},
   "source": [
    "## Fall 2023"
   ]
  },
  {
   "cell_type": "code",
   "execution_count": 1,
   "id": "880e7556",
   "metadata": {},
   "outputs": [],
   "source": [
    "import numpy as np\n",
    "import matplotlib.pyplot as plt"
   ]
  },
  {
   "cell_type": "markdown",
   "id": "ba12a848",
   "metadata": {},
   "source": [
    "### Task 1 (30 points) \n",
    "\n",
    "Implement Hough transform to detect lines in the image. Superimpose detected lines on the original image.\n",
    "\n",
    "Note: You shouldn't use cv2.HoughCircles() or any other library fuctions to detect the circles.\n",
    "\n",
    "<img src = Images/lines.jpg>"
   ]
  },
  {
   "cell_type": "code",
   "execution_count": 41,
   "id": "267a3767",
   "metadata": {},
   "outputs": [],
   "source": [
    "# Hough transform to detect lines\n",
    "def houghLine(image):\n",
    "    ''' Basic Hough line transform that builds the accumulator array\n",
    "    Input : image : edge image (canny)\n",
    "    Output : accumulator : the accumulator of hough space\n",
    "             thetas : values of theta (-90 : 90)\n",
    "             rs : values of radius (-max distance : max distance)\n",
    "    '''\n",
    "    #Get image dimensions\n",
    "    # y for rows and x for columns \n",
    "    Ny = image.shape[0]\n",
    "    Nx = image.shape[1]\n",
    "\n",
    "    #Max diatance is diagonal one \n",
    "    Maxdist = int(np.round(np.sqrt(Nx**2 + Ny ** 2)))\n",
    "    \n",
    "    # Theta in range from -90 to 90 degrees\n",
    "    thetas = np.deg2rad(np.arange(-90, 90))\n",
    "    #Range of radius\n",
    "    rs = np.linspace(-Maxdist, Maxdist, 2*Maxdist)\n",
    "    \n",
    "    accumulator = np.zeros((2 * Maxdist, len(thetas)))\n",
    "    for y in range(Ny):\n",
    "        for x in range(Nx):\n",
    "            # Check if it is an edge pixel\n",
    "            #  NB: y -> rows , x -> columns\n",
    "            if image[y,x] > 0:\n",
    "                # Map edge pixel to hough space\n",
    "                for k in range(len(thetas)):\n",
    "                    # Calculate space parameter\n",
    "                    r = x*np.cos(thetas[k]) + y * np.sin(thetas[k])\n",
    "                    # Update the accumulator\n",
    "                    # N.B: r has value -max to max\n",
    "                    # map r to its idx 0 : 2*max\n",
    "                    accumulator[int(r) + Maxdist,k] += 1\n",
    "    return accumulator, thetas, rs"
   ]
  },
  {
   "cell_type": "code",
   "execution_count": 45,
   "id": "8409f6de",
   "metadata": {},
   "outputs": [
    {
     "data": {
      "image/png": "[encoded data removed]",
      "text/plain": [
       "<Figure size 640x480 with 1 Axes>"
      ]
     },
     "metadata": {},
     "output_type": "display_data"
    }
   ],
   "source": [
    "import numpy as np\n",
    "import math\n",
    "import cv2\n",
    "\n",
    "def create_lines(accumulator, thetas, rs, threshold):\n",
    "    lines = []  # List to store the detected lines\n",
    "\n",
    "    while True:\n",
    "        # Find the maximum value in the accumulator\n",
    "        max_value = np.max(accumulator)\n",
    "        \n",
    "        # Check if the maximum value is above the threshold\n",
    "        if max_value >= threshold:\n",
    "            # Get the indices of the maximum value\n",
    "            max_index = np.argwhere(accumulator == max_value)[0]\n",
    "            rho = rs[max_index[0]]\n",
    "            theta = thetas[max_index[1]]\n",
    "\n",
    "            # Convert (rho, theta) to (x1, y1) and (x2, y2)\n",
    "            x1 = int(rho * np.cos(theta))\n",
    "            y1 = int(rho * np.sin(theta))\n",
    "            \n",
    "            # Find a second point on the line by adding/subtracting an arbitrary distance\n",
    "            length = 1000  # You can adjust this value based on your image size\n",
    "            x2 = int(x1 + length * (-np.sin(theta)))\n",
    "            y2 = int(y1 + length * (np.cos(theta)))\n",
    "\n",
    "            # Add the line to the list\n",
    "            lines.append(((x1, y1), (x2, y2)))\n",
    "\n",
    "            # Zero out the accumulator cell to ignore it in the next iteration\n",
    "            accumulator[max_index[0], max_index[1]] = 0\n",
    "        else:\n",
    "            break\n",
    "\n",
    "    return lines\n",
    "\n",
    "\n",
    "# Superimpose the lines on the original image\n",
    "# Load your original image here (replace 'your_image.jpg' with your image file path)\n",
    "image = cv2.imread('./Images/lines.jpg', cv2.IMREAD_GRAYSCALE)\n",
    "image_with_lines = image.copy()\n",
    "\n",
    "accumulator, thetas, rs = houghLine(image)  # Use your houghLine function\n",
    "threshold = 100  # Adjust this value as needed\n",
    "detected_lines = create_lines(accumulator, thetas, rs, threshold)\n",
    "\n",
    "\n",
    "fig, ax = plt.subplots()\n",
    "\n",
    "# Display the original image\n",
    "ax.imshow(cv2.cvtColor(image, cv2.COLOR_BGR2RGB))\n",
    "\n",
    "# Draw the detected lines on the image\n",
    "for line in detected_lines:\n",
    "    x1, y1 = line[0]\n",
    "    x2, y2 = line[1]\n",
    "    ax.plot([x1, x2], [y1, y2], color='red', linewidth=2)\n",
    "\n",
    "plt.show()\n"
   ]
  },
  {
   "cell_type": "code",
   "execution_count": null,
   "id": "4a9ad4c1",
   "metadata": {},
   "outputs": [],
   "source": []
  },
  {
   "cell_type": "code",
   "execution_count": null,
   "id": "cbca975c",
   "metadata": {},
   "outputs": [],
   "source": []
  },
  {
   "cell_type": "code",
   "execution_count": null,
   "id": "0202fc54",
   "metadata": {},
   "outputs": [],
   "source": []
  },
  {
   "cell_type": "code",
   "execution_count": null,
   "id": "735f4bc3",
   "metadata": {},
   "outputs": [],
   "source": []
  },
  {
   "cell_type": "code",
   "execution_count": null,
   "id": "917804c8",
   "metadata": {},
   "outputs": [],
   "source": []
  },
  {
   "cell_type": "code",
   "execution_count": null,
   "id": "2b3f3bcb",
   "metadata": {},
   "outputs": [],
   "source": []
  },
  {
   "cell_type": "code",
   "execution_count": null,
   "id": "00f338eb",
   "metadata": {},
   "outputs": [],
   "source": []
  },
  {
   "cell_type": "code",
   "execution_count": null,
   "id": "f66b6b4a",
   "metadata": {},
   "outputs": [],
   "source": []
  },
  {
   "cell_type": "markdown",
   "id": "1da3b021",
   "metadata": {},
   "source": [
    "### Task 2 (30 points) \n",
    "\n",
    "Implement Hough transform from scratch to detect circles in the image. Refer to this wiki page for pseudocode(https://en.wikipedia.org/wiki/Circle_Hough_Transform). Superimpose detected circles on the original image.\n",
    "\n",
    "Note: You shouldn't use cv2.HoughCircles() or any other library fuctions to detect the circles.\n",
    "\n",
    "<img src = Images/circles.jpg>"
   ]
  },
  {
   "cell_type": "code",
   "execution_count": null,
   "id": "150f2057",
   "metadata": {},
   "outputs": [],
   "source": [
    "# Hough transform to detect circles"
   ]
  },
  {
   "cell_type": "code",
   "execution_count": null,
   "id": "6c45ce96",
   "metadata": {},
   "outputs": [],
   "source": []
  },
  {
   "cell_type": "code",
   "execution_count": null,
   "id": "cdc861c5",
   "metadata": {},
   "outputs": [],
   "source": []
  },
  {
   "cell_type": "code",
   "execution_count": null,
   "id": "e7f4411b",
   "metadata": {},
   "outputs": [],
   "source": []
  },
  {
   "cell_type": "code",
   "execution_count": null,
   "id": "15affbdc",
   "metadata": {},
   "outputs": [],
   "source": []
  },
  {
   "cell_type": "code",
   "execution_count": null,
   "id": "f457b070",
   "metadata": {},
   "outputs": [],
   "source": []
  },
  {
   "cell_type": "markdown",
   "id": "a134d953",
   "metadata": {},
   "source": [
    "### Task 3 (40 points)\n",
    "\n",
    "Implement Harris corner detector from scratch. Mark detected corners on original image. \n",
    "\n",
    "Note: You shouldn't use cv2.cornerHarris() or any other library functions to detect the corners.\n",
    "\n",
    "<img src = Images/corners.jpg>"
   ]
  },
  {
   "cell_type": "code",
   "execution_count": null,
   "id": "2aebdc80",
   "metadata": {},
   "outputs": [],
   "source": [
    "# Harris corner detection"
   ]
  },
  {
   "cell_type": "code",
   "execution_count": null,
   "id": "0cb59c02",
   "metadata": {},
   "outputs": [],
   "source": []
  },
  {
   "cell_type": "code",
   "execution_count": null,
   "id": "6e11d294",
   "metadata": {},
   "outputs": [],
   "source": []
  },
  {
   "cell_type": "code",
   "execution_count": null,
   "id": "f5de2a13",
   "metadata": {},
   "outputs": [],
   "source": []
  },
  {
   "cell_type": "code",
   "execution_count": null,
   "id": "4a7d4cdb",
   "metadata": {},
   "outputs": [],
   "source": []
  },
  {
   "cell_type": "code",
   "execution_count": null,
   "id": "ce5385f4",
   "metadata": {},
   "outputs": [],
   "source": []
  },
  {
   "cell_type": "code",
   "execution_count": null,
   "id": "0bdee5f9",
   "metadata": {},
   "outputs": [],
   "source": []
  },
  {
   "cell_type": "markdown",
   "id": "3825743d",
   "metadata": {},
   "source": [
    "## Submission Guidelines:\n",
    "\n",
    "    Submit through Canvas your source code in a single .ipynb file. The name of the .ipynb file should be YourStudentID.ipynb. (For example: 1001234567.ipynb)\n",
    "    Import all the images from the ./Images directory. Your TA will use the same directory name to grade your submission.\n",
    "    You don't need to attach the image file with your submission.\n"
   ]
  }
 ],
 "metadata": {
  "kernelspec": {
   "display_name": "Python 3 (ipykernel)",
   "language": "python",
   "name": "python3"
  },
  "language_info": {
   "codemirror_mode": {
    "name": "ipython",
    "version": 3
   },
   "file_extension": ".py",
   "mimetype": "text/x-python",
   "name": "python",
   "nbconvert_exporter": "python",
   "pygments_lexer": "ipython3",
   "version": "3.9.6"
  }
 },
 "nbformat": 4,
 "nbformat_minor": 5
}
