{
 "cells": [
  {
   "cell_type": "markdown",
   "id": "921c037f",
   "metadata": {},
   "source": [
    "# CSE 6367 Programming Assignment 2 (P2)"
   ]
  },
  {
   "cell_type": "markdown",
   "id": "7c013586",
   "metadata": {},
   "source": [
    "## Fall 2023"
   ]
  },
  {
   "cell_type": "markdown",
   "id": "ba12a848",
   "metadata": {},
   "source": [
    "### Task 1 (30 points) \n",
    "\n",
    "Implement Hough transform to detect lines in the image. Superimpose detected lines on the original image.\n",
    "\n",
    "Note: You shouldn't use cv2.HoughCircles() or any other library fuctions to detect the circles.\n",
    "\n",
    "<img src = Images/lines.jpg>"
   ]
  },
  {
   "cell_type": "code",
   "execution_count": null,
   "id": "267a3767",
   "metadata": {},
   "outputs": [],
   "source": [
    "# Hough transform to detect lines"
   ]
  },
  {
   "cell_type": "code",
   "execution_count": null,
   "id": "9b9022c2",
   "metadata": {},
   "outputs": [],
   "source": []
  },
  {
   "cell_type": "code",
   "execution_count": null,
   "id": "0446ea84",
   "metadata": {},
   "outputs": [],
   "source": []
  },
  {
   "cell_type": "code",
   "execution_count": null,
   "id": "61086321",
   "metadata": {},
   "outputs": [],
   "source": []
  },
  {
   "cell_type": "code",
   "execution_count": null,
   "id": "3da39c2d",
   "metadata": {},
   "outputs": [],
   "source": []
  },
  {
   "cell_type": "code",
   "execution_count": null,
   "id": "00e6631c",
   "metadata": {},
   "outputs": [],
   "source": []
  },
  {
   "cell_type": "code",
   "execution_count": null,
   "id": "3f106f30",
   "metadata": {},
   "outputs": [],
   "source": []
  },
  {
   "cell_type": "code",
   "execution_count": null,
   "id": "eab86c01",
   "metadata": {},
   "outputs": [],
   "source": []
  },
  {
   "cell_type": "code",
   "execution_count": null,
   "id": "4b607ded",
   "metadata": {},
   "outputs": [],
   "source": []
  },
  {
   "cell_type": "code",
   "execution_count": null,
   "id": "69b3bd26",
   "metadata": {},
   "outputs": [],
   "source": []
  },
  {
   "cell_type": "code",
   "execution_count": null,
   "id": "f66b6b4a",
   "metadata": {},
   "outputs": [],
   "source": []
  },
  {
   "cell_type": "markdown",
   "id": "1da3b021",
   "metadata": {},
   "source": [
    "### Task 2 (30 points) \n",
    "\n",
    "Implement Hough transform from scratch to detect circles in the image. Refer to this wiki page for pseudocode(https://en.wikipedia.org/wiki/Circle_Hough_Transform). Superimpose detected circles on the original image.\n",
    "\n",
    "Note: You shouldn't use cv2.HoughCircles() or any other library fuctions to detect the circles.\n",
    "\n",
    "<img src = Images/circles.jpg>"
   ]
  },
  {
   "cell_type": "code",
   "execution_count": null,
   "id": "150f2057",
   "metadata": {},
   "outputs": [],
   "source": [
    "# Hough transform to detect circles"
   ]
  },
  {
   "cell_type": "code",
   "execution_count": null,
   "id": "6c45ce96",
   "metadata": {},
   "outputs": [],
   "source": []
  },
  {
   "cell_type": "code",
   "execution_count": null,
   "id": "cdc861c5",
   "metadata": {},
   "outputs": [],
   "source": []
  },
  {
   "cell_type": "code",
   "execution_count": null,
   "id": "e7f4411b",
   "metadata": {},
   "outputs": [],
   "source": []
  },
  {
   "cell_type": "code",
   "execution_count": null,
   "id": "15affbdc",
   "metadata": {},
   "outputs": [],
   "source": []
  },
  {
   "cell_type": "code",
   "execution_count": null,
   "id": "f457b070",
   "metadata": {},
   "outputs": [],
   "source": []
  },
  {
   "cell_type": "markdown",
   "id": "a134d953",
   "metadata": {},
   "source": [
    "### Task 3 (40 points)\n",
    "\n",
    "Implement Harris corner detector from scratch. Mark detected corners on original image. \n",
    "\n",
    "Note: You shouldn't use cv2.cornerHarris() or any other library functions to detect the corners.\n",
    "\n",
    "<img src = Images/corners.jpg>"
   ]
  },
  {
   "cell_type": "code",
   "execution_count": null,
   "id": "2aebdc80",
   "metadata": {},
   "outputs": [],
   "source": [
    "# Harris corner detection"
   ]
  },
  {
   "cell_type": "code",
   "execution_count": null,
   "id": "0cb59c02",
   "metadata": {},
   "outputs": [],
   "source": []
  },
  {
   "cell_type": "code",
   "execution_count": null,
   "id": "6e11d294",
   "metadata": {},
   "outputs": [],
   "source": []
  },
  {
   "cell_type": "code",
   "execution_count": null,
   "id": "f5de2a13",
   "metadata": {},
   "outputs": [],
   "source": []
  },
  {
   "cell_type": "code",
   "execution_count": null,
   "id": "4a7d4cdb",
   "metadata": {},
   "outputs": [],
   "source": []
  },
  {
   "cell_type": "code",
   "execution_count": null,
   "id": "ce5385f4",
   "metadata": {},
   "outputs": [],
   "source": []
  },
  {
   "cell_type": "code",
   "execution_count": null,
   "id": "0bdee5f9",
   "metadata": {},
   "outputs": [],
   "source": []
  },
  {
   "cell_type": "markdown",
   "id": "3825743d",
   "metadata": {},
   "source": [
    "## Submission Guidelines:\n",
    "\n",
    "    Submit through Canvas your source code in a single .ipynb file. The name of the .ipynb file should be YourStudentID.ipynb. (For example: 1001234567.ipynb)\n",
    "    Import all the images from the ./Images directory. Your TA will use the same directory name to grade your submission.\n",
    "    You don't need to attach the image file with your submission.\n"
   ]
  }
 ],
 "metadata": {
  "kernelspec": {
   "display_name": "Python 3 (ipykernel)",
   "language": "python",
   "name": "python3"
  },
  "language_info": {
   "codemirror_mode": {
    "name": "ipython",
    "version": 3
   },
   "file_extension": ".py",
   "mimetype": "text/x-python",
   "name": "python",
   "nbconvert_exporter": "python",
   "pygments_lexer": "ipython3",
   "version": "3.9.6"
  }
 },
 "nbformat": 4,
 "nbformat_minor": 5
}
